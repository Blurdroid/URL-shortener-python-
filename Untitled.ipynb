{
 "cells": [
  {
   "cell_type": "code",
   "execution_count": null,
   "id": "7f1260e8",
   "metadata": {},
   "outputs": [],
   "source": [
    "pip install pyshorteners"
   ]
  },
  {
   "cell_type": "code",
   "execution_count": null,
   "id": "0fd5ee3e",
   "metadata": {},
   "outputs": [],
   "source": [
    "import pyshorteners as sh\n",
    "from flask import Flask, request\n",
    "\n",
    "app = Flask(__name__)\n",
    "\n",
    "@app.route('/')\n",
    "def index():\n",
    "    return '''\n",
    "        <form method=\"post\">\n",
    "            <label for=\"url\">Enter URL:</label>\n",
    "            <input type=\"url\" name=\"url\" id=\"url\" placeholder=\"https://example.com\">\n",
    "            <input type=\"submit\" value=\"press to shorten url\">\n",
    "        </form>\n",
    "    '''\n",
    "\n",
    "@app.route('/', methods=['POST'])\n",
    "def shorten():\n",
    "    url = request.form['url']\n",
    "    s = sh.Shortener()\n",
    "    short_url = s.tinyurl.short(url)\n",
    "    try:\n",
    "        return f'The shortened URL is: {short_url}'\n",
    "    except:\n",
    "        return \"there is no url found\" \n",
    "\n",
    "if __name__ == '__main__':\n",
    "    try:\n",
    "        app.debug=False\n",
    "        app.run(host='0.0.0.0', port=5000)\n",
    "    except Exception:\n",
    "        %tb"
   ]
  },
  {
   "cell_type": "code",
   "execution_count": null,
   "id": "a712ae37",
   "metadata": {},
   "outputs": [],
   "source": []
  },
  {
   "cell_type": "code",
   "execution_count": null,
   "id": "646b70fa",
   "metadata": {},
   "outputs": [],
   "source": []
  },
  {
   "cell_type": "code",
   "execution_count": 27,
   "id": "6cc9e00d",
   "metadata": {},
   "outputs": [],
   "source": []
  },
  {
   "cell_type": "code",
   "execution_count": null,
   "id": "7bbd3ba6",
   "metadata": {},
   "outputs": [],
   "source": []
  },
  {
   "cell_type": "code",
   "execution_count": null,
   "id": "69919ccb",
   "metadata": {},
   "outputs": [],
   "source": []
  },
  {
   "cell_type": "code",
   "execution_count": null,
   "id": "efaff575",
   "metadata": {},
   "outputs": [],
   "source": []
  },
  {
   "cell_type": "code",
   "execution_count": null,
   "id": "f3a9e7a9",
   "metadata": {},
   "outputs": [],
   "source": []
  },
  {
   "cell_type": "code",
   "execution_count": null,
   "id": "21626c51",
   "metadata": {},
   "outputs": [],
   "source": []
  },
  {
   "cell_type": "code",
   "execution_count": null,
   "id": "bce19329",
   "metadata": {},
   "outputs": [],
   "source": []
  }
 ],
 "metadata": {
  "kernelspec": {
   "display_name": "Python 3 (ipykernel)",
   "language": "python",
   "name": "python3"
  },
  "language_info": {
   "codemirror_mode": {
    "name": "ipython",
    "version": 3
   },
   "file_extension": ".py",
   "mimetype": "text/x-python",
   "name": "python",
   "nbconvert_exporter": "python",
   "pygments_lexer": "ipython3",
   "version": "3.9.12"
  }
 },
 "nbformat": 4,
 "nbformat_minor": 5
}
